{
 "cells": [
  {
   "cell_type": "code",
   "execution_count": 1,
   "metadata": {},
   "outputs": [
    {
     "name": "stdout",
     "output_type": "stream",
     "text": [
      "Requirement already up-to-date: h2o in c:\\users\\yasir\\anaconda3\\lib\\site-packages (3.22.1.2)\n",
      "Requirement already satisfied, skipping upgrade: colorama>=0.3.8 in c:\\users\\yasir\\anaconda3\\lib\\site-packages (from h2o) (0.4.1)\n",
      "Requirement already satisfied, skipping upgrade: future in c:\\users\\yasir\\anaconda3\\lib\\site-packages (from h2o) (0.17.1)\n",
      "Requirement already satisfied, skipping upgrade: tabulate in c:\\users\\yasir\\anaconda3\\lib\\site-packages (from h2o) (0.8.2)\n",
      "Requirement already satisfied, skipping upgrade: requests in c:\\users\\yasir\\anaconda3\\lib\\site-packages (from h2o) (2.21.0)\n",
      "Requirement already satisfied, skipping upgrade: urllib3<1.25,>=1.21.1 in c:\\users\\yasir\\anaconda3\\lib\\site-packages (from requests->h2o) (1.24.1)\n",
      "Requirement already satisfied, skipping upgrade: idna<2.9,>=2.5 in c:\\users\\yasir\\anaconda3\\lib\\site-packages (from requests->h2o) (2.8)\n",
      "Requirement already satisfied, skipping upgrade: certifi>=2017.4.17 in c:\\users\\yasir\\anaconda3\\lib\\site-packages (from requests->h2o) (2018.11.29)\n",
      "Requirement already satisfied, skipping upgrade: chardet<3.1.0,>=3.0.2 in c:\\users\\yasir\\anaconda3\\lib\\site-packages (from requests->h2o) (3.0.4)\n"
     ]
    }
   ],
   "source": [
    "!pip install -U h2o"
   ]
  },
  {
   "cell_type": "code",
   "execution_count": 2,
   "metadata": {},
   "outputs": [],
   "source": [
    "import h2o"
   ]
  },
  {
   "cell_type": "code",
   "execution_count": 3,
   "metadata": {},
   "outputs": [
    {
     "name": "stdout",
     "output_type": "stream",
     "text": [
      "Checking whether there is an H2O instance running at http://localhost:54321..... not found.\n",
      "Attempting to start a local H2O server...\n",
      "; Java HotSpot(TM) 64-Bit Server VM (build 25.112-b15, mixed mode)\n",
      "  Starting server from C:\\Users\\yasir\\Anaconda3\\lib\\site-packages\\h2o\\backend\\bin\\h2o.jar\n",
      "  Ice root: C:\\Users\\yasir\\AppData\\Local\\Temp\\tmp2e55h2np\n",
      "  JVM stdout: C:\\Users\\yasir\\AppData\\Local\\Temp\\tmp2e55h2np\\h2o_yasirabd_started_from_python.out\n",
      "  JVM stderr: C:\\Users\\yasir\\AppData\\Local\\Temp\\tmp2e55h2np\\h2o_yasirabd_started_from_python.err\n",
      "  Server is running at http://127.0.0.1:54321\n",
      "Connecting to H2O server at http://127.0.0.1:54321... successful.\n"
     ]
    },
    {
     "data": {
      "text/html": [
       "<div style=\"overflow:auto\"><table style=\"width:50%\"><tr><td>H2O cluster uptime:</td>\n",
       "<td>05 secs</td></tr>\n",
       "<tr><td>H2O cluster timezone:</td>\n",
       "<td>Asia/Bangkok</td></tr>\n",
       "<tr><td>H2O data parsing timezone:</td>\n",
       "<td>UTC</td></tr>\n",
       "<tr><td>H2O cluster version:</td>\n",
       "<td>3.22.1.2</td></tr>\n",
       "<tr><td>H2O cluster version age:</td>\n",
       "<td>4 days </td></tr>\n",
       "<tr><td>H2O cluster name:</td>\n",
       "<td>H2O_from_python_yasirabd_y5s5yy</td></tr>\n",
       "<tr><td>H2O cluster total nodes:</td>\n",
       "<td>1</td></tr>\n",
       "<tr><td>H2O cluster free memory:</td>\n",
       "<td>1.754 Gb</td></tr>\n",
       "<tr><td>H2O cluster total cores:</td>\n",
       "<td>4</td></tr>\n",
       "<tr><td>H2O cluster allowed cores:</td>\n",
       "<td>4</td></tr>\n",
       "<tr><td>H2O cluster status:</td>\n",
       "<td>accepting new members, healthy</td></tr>\n",
       "<tr><td>H2O connection url:</td>\n",
       "<td>http://127.0.0.1:54321</td></tr>\n",
       "<tr><td>H2O connection proxy:</td>\n",
       "<td>None</td></tr>\n",
       "<tr><td>H2O internal security:</td>\n",
       "<td>False</td></tr>\n",
       "<tr><td>H2O API Extensions:</td>\n",
       "<td>Algos, AutoML, Core V3, Core V4</td></tr>\n",
       "<tr><td>Python version:</td>\n",
       "<td>3.6.7 final</td></tr></table></div>"
      ],
      "text/plain": [
       "--------------------------  -------------------------------\n",
       "H2O cluster uptime:         05 secs\n",
       "H2O cluster timezone:       Asia/Bangkok\n",
       "H2O data parsing timezone:  UTC\n",
       "H2O cluster version:        3.22.1.2\n",
       "H2O cluster version age:    4 days\n",
       "H2O cluster name:           H2O_from_python_yasirabd_y5s5yy\n",
       "H2O cluster total nodes:    1\n",
       "H2O cluster free memory:    1.754 Gb\n",
       "H2O cluster total cores:    4\n",
       "H2O cluster allowed cores:  4\n",
       "H2O cluster status:         accepting new members, healthy\n",
       "H2O connection url:         http://127.0.0.1:54321\n",
       "H2O connection proxy:\n",
       "H2O internal security:      False\n",
       "H2O API Extensions:         Algos, AutoML, Core V3, Core V4\n",
       "Python version:             3.6.7 final\n",
       "--------------------------  -------------------------------"
      ]
     },
     "metadata": {},
     "output_type": "display_data"
    }
   ],
   "source": [
    "h2o.init()"
   ]
  },
  {
   "cell_type": "code",
   "execution_count": 4,
   "metadata": {},
   "outputs": [
    {
     "name": "stdout",
     "output_type": "stream",
     "text": [
      "H2O session _sid_90f7 closed.\n"
     ]
    }
   ],
   "source": [
    "h2o.cluster().shutdown()"
   ]
  },
  {
   "cell_type": "code",
   "execution_count": 5,
   "metadata": {},
   "outputs": [
    {
     "name": "stdout",
     "output_type": "stream",
     "text": [
      "Checking whether there is an H2O instance running at http://localhost:54321..... not found.\n",
      "Attempting to start a local H2O server...\n",
      "; Java HotSpot(TM) 64-Bit Server VM (build 25.112-b15, mixed mode)\n",
      "  Starting server from C:\\Users\\yasir\\Anaconda3\\lib\\site-packages\\h2o\\backend\\bin\\h2o.jar\n",
      "  Ice root: C:\\Users\\yasir\\AppData\\Local\\Temp\\tmp9ya2mopi\n",
      "  JVM stdout: C:\\Users\\yasir\\AppData\\Local\\Temp\\tmp9ya2mopi\\h2o_yasirabd_started_from_python.out\n",
      "  JVM stderr: C:\\Users\\yasir\\AppData\\Local\\Temp\\tmp9ya2mopi\\h2o_yasirabd_started_from_python.err\n",
      "  Server is running at http://127.0.0.1:54321\n",
      "Connecting to H2O server at http://127.0.0.1:54321... successful.\n"
     ]
    },
    {
     "data": {
      "text/html": [
       "<div style=\"overflow:auto\"><table style=\"width:50%\"><tr><td>H2O cluster uptime:</td>\n",
       "<td>05 secs</td></tr>\n",
       "<tr><td>H2O cluster timezone:</td>\n",
       "<td>Asia/Bangkok</td></tr>\n",
       "<tr><td>H2O data parsing timezone:</td>\n",
       "<td>UTC</td></tr>\n",
       "<tr><td>H2O cluster version:</td>\n",
       "<td>3.22.1.2</td></tr>\n",
       "<tr><td>H2O cluster version age:</td>\n",
       "<td>4 days </td></tr>\n",
       "<tr><td>H2O cluster name:</td>\n",
       "<td>H2O_from_python_yasirabd_kvcgbg</td></tr>\n",
       "<tr><td>H2O cluster total nodes:</td>\n",
       "<td>1</td></tr>\n",
       "<tr><td>H2O cluster free memory:</td>\n",
       "<td>3.556 Gb</td></tr>\n",
       "<tr><td>H2O cluster total cores:</td>\n",
       "<td>4</td></tr>\n",
       "<tr><td>H2O cluster allowed cores:</td>\n",
       "<td>2</td></tr>\n",
       "<tr><td>H2O cluster status:</td>\n",
       "<td>accepting new members, healthy</td></tr>\n",
       "<tr><td>H2O connection url:</td>\n",
       "<td>http://127.0.0.1:54321</td></tr>\n",
       "<tr><td>H2O connection proxy:</td>\n",
       "<td>None</td></tr>\n",
       "<tr><td>H2O internal security:</td>\n",
       "<td>False</td></tr>\n",
       "<tr><td>H2O API Extensions:</td>\n",
       "<td>Algos, AutoML, Core V3, Core V4</td></tr>\n",
       "<tr><td>Python version:</td>\n",
       "<td>3.6.7 final</td></tr></table></div>"
      ],
      "text/plain": [
       "--------------------------  -------------------------------\n",
       "H2O cluster uptime:         05 secs\n",
       "H2O cluster timezone:       Asia/Bangkok\n",
       "H2O data parsing timezone:  UTC\n",
       "H2O cluster version:        3.22.1.2\n",
       "H2O cluster version age:    4 days\n",
       "H2O cluster name:           H2O_from_python_yasirabd_kvcgbg\n",
       "H2O cluster total nodes:    1\n",
       "H2O cluster free memory:    3.556 Gb\n",
       "H2O cluster total cores:    4\n",
       "H2O cluster allowed cores:  2\n",
       "H2O cluster status:         accepting new members, healthy\n",
       "H2O connection url:         http://127.0.0.1:54321\n",
       "H2O connection proxy:\n",
       "H2O internal security:      False\n",
       "H2O API Extensions:         Algos, AutoML, Core V3, Core V4\n",
       "Python version:             3.6.7 final\n",
       "--------------------------  -------------------------------"
      ]
     },
     "metadata": {},
     "output_type": "display_data"
    }
   ],
   "source": [
    "h2o.init(nthreads=2, max_mem_size=4)"
   ]
  },
  {
   "cell_type": "code",
   "execution_count": 6,
   "metadata": {},
   "outputs": [
    {
     "name": "stdout",
     "output_type": "stream",
     "text": [
      "H2O session _sid_9112 closed.\n"
     ]
    }
   ],
   "source": [
    "h2o.cluster().shutdown()"
   ]
  },
  {
   "cell_type": "markdown",
   "metadata": {},
   "source": [
    "# Example Deep Learning on the Iris Dataset"
   ]
  },
  {
   "cell_type": "code",
   "execution_count": 7,
   "metadata": {},
   "outputs": [
    {
     "name": "stdout",
     "output_type": "stream",
     "text": [
      "Checking whether there is an H2O instance running at http://localhost:54321..... not found.\n",
      "Attempting to start a local H2O server...\n",
      "; Java HotSpot(TM) 64-Bit Server VM (build 25.112-b15, mixed mode)\n",
      "  Starting server from C:\\Users\\yasir\\Anaconda3\\lib\\site-packages\\h2o\\backend\\bin\\h2o.jar\n",
      "  Ice root: C:\\Users\\yasir\\AppData\\Local\\Temp\\tmpr7tkwq9y\n",
      "  JVM stdout: C:\\Users\\yasir\\AppData\\Local\\Temp\\tmpr7tkwq9y\\h2o_yasirabd_started_from_python.out\n",
      "  JVM stderr: C:\\Users\\yasir\\AppData\\Local\\Temp\\tmpr7tkwq9y\\h2o_yasirabd_started_from_python.err\n",
      "  Server is running at http://127.0.0.1:54321\n",
      "Connecting to H2O server at http://127.0.0.1:54321... successful.\n"
     ]
    },
    {
     "data": {
      "text/html": [
       "<div style=\"overflow:auto\"><table style=\"width:50%\"><tr><td>H2O cluster uptime:</td>\n",
       "<td>05 secs</td></tr>\n",
       "<tr><td>H2O cluster timezone:</td>\n",
       "<td>Asia/Bangkok</td></tr>\n",
       "<tr><td>H2O data parsing timezone:</td>\n",
       "<td>UTC</td></tr>\n",
       "<tr><td>H2O cluster version:</td>\n",
       "<td>3.22.1.2</td></tr>\n",
       "<tr><td>H2O cluster version age:</td>\n",
       "<td>4 days </td></tr>\n",
       "<tr><td>H2O cluster name:</td>\n",
       "<td>H2O_from_python_yasirabd_yt5u6n</td></tr>\n",
       "<tr><td>H2O cluster total nodes:</td>\n",
       "<td>1</td></tr>\n",
       "<tr><td>H2O cluster free memory:</td>\n",
       "<td>1.754 Gb</td></tr>\n",
       "<tr><td>H2O cluster total cores:</td>\n",
       "<td>4</td></tr>\n",
       "<tr><td>H2O cluster allowed cores:</td>\n",
       "<td>4</td></tr>\n",
       "<tr><td>H2O cluster status:</td>\n",
       "<td>accepting new members, healthy</td></tr>\n",
       "<tr><td>H2O connection url:</td>\n",
       "<td>http://127.0.0.1:54321</td></tr>\n",
       "<tr><td>H2O connection proxy:</td>\n",
       "<td>None</td></tr>\n",
       "<tr><td>H2O internal security:</td>\n",
       "<td>False</td></tr>\n",
       "<tr><td>H2O API Extensions:</td>\n",
       "<td>Algos, AutoML, Core V3, Core V4</td></tr>\n",
       "<tr><td>Python version:</td>\n",
       "<td>3.6.7 final</td></tr></table></div>"
      ],
      "text/plain": [
       "--------------------------  -------------------------------\n",
       "H2O cluster uptime:         05 secs\n",
       "H2O cluster timezone:       Asia/Bangkok\n",
       "H2O data parsing timezone:  UTC\n",
       "H2O cluster version:        3.22.1.2\n",
       "H2O cluster version age:    4 days\n",
       "H2O cluster name:           H2O_from_python_yasirabd_yt5u6n\n",
       "H2O cluster total nodes:    1\n",
       "H2O cluster free memory:    1.754 Gb\n",
       "H2O cluster total cores:    4\n",
       "H2O cluster allowed cores:  4\n",
       "H2O cluster status:         accepting new members, healthy\n",
       "H2O connection url:         http://127.0.0.1:54321\n",
       "H2O connection proxy:\n",
       "H2O internal security:      False\n",
       "H2O API Extensions:         Algos, AutoML, Core V3, Core V4\n",
       "Python version:             3.6.7 final\n",
       "--------------------------  -------------------------------"
      ]
     },
     "metadata": {},
     "output_type": "display_data"
    },
    {
     "name": "stdout",
     "output_type": "stream",
     "text": [
      "Parse progress: |█████████████████████████████████████████████████████████| 100%\n",
      "deeplearning Model Build progress: |██████████████████████████████████████| 100%\n",
      "deeplearning prediction progress: |███████████████████████████████████████| 100%\n"
     ]
    }
   ],
   "source": [
    "h2o.init()\n",
    "\n",
    "datasets = \"https://raw.githubusercontent.com/DarrenCook/h2o/bk/datasets/\"\n",
    "data = h2o.import_file(datasets + \"iris_wheader.csv\")\n",
    "y = \"class\"\n",
    "x = data.names\n",
    "x.remove(y)\n",
    "train, test = data.split_frame([0.8])\n",
    "\n",
    "m = h2o.estimators.deeplearning.H2ODeepLearningEstimator()\n",
    "m.train(x, y, train)\n",
    "p = m.predict(test)"
   ]
  },
  {
   "cell_type": "code",
   "execution_count": 12,
   "metadata": {},
   "outputs": [
    {
     "name": "stdout",
     "output_type": "stream",
     "text": [
      "Confusion Matrix: Row labels: Actual class; Column labels: Predicted class\n",
      "\n"
     ]
    },
    {
     "data": {
      "text/html": [
       "<div style=\"overflow:auto\"><table style=\"width:50%\"><tr><td><b>Iris-setosa</b></td>\n",
       "<td><b>Iris-versicolor</b></td>\n",
       "<td><b>Iris-virginica</b></td>\n",
       "<td><b>Error</b></td>\n",
       "<td><b>Rate</b></td></tr>\n",
       "<tr><td>39.0</td>\n",
       "<td>0.0</td>\n",
       "<td>0.0</td>\n",
       "<td>0.0</td>\n",
       "<td>0 / 39</td></tr>\n",
       "<tr><td>0.0</td>\n",
       "<td>32.0</td>\n",
       "<td>7.0</td>\n",
       "<td>0.1794872</td>\n",
       "<td>7 / 39</td></tr>\n",
       "<tr><td>0.0</td>\n",
       "<td>0.0</td>\n",
       "<td>45.0</td>\n",
       "<td>0.0</td>\n",
       "<td>0 / 45</td></tr>\n",
       "<tr><td>39.0</td>\n",
       "<td>32.0</td>\n",
       "<td>52.0</td>\n",
       "<td>0.0569106</td>\n",
       "<td>7 / 123</td></tr></table></div>"
      ],
      "text/plain": [
       "Iris-setosa    Iris-versicolor    Iris-virginica    Error      Rate\n",
       "-------------  -----------------  ----------------  ---------  -------\n",
       "39             0                  0                 0          0 / 39\n",
       "0              32                 7                 0.179487   7 / 39\n",
       "0              0                  45                0          0 / 45\n",
       "39             32                 52                0.0569106  7 / 123"
      ]
     },
     "metadata": {},
     "output_type": "display_data"
    },
    {
     "data": {
      "text/plain": []
     },
     "execution_count": 12,
     "metadata": {},
     "output_type": "execute_result"
    }
   ],
   "source": [
    "m.confusion_matrix(train)"
   ]
  },
  {
   "cell_type": "code",
   "execution_count": 9,
   "metadata": {},
   "outputs": [
    {
     "data": {
      "text/html": [
       "<table>\n",
       "<thead>\n",
       "<tr><th>predict    </th><th style=\"text-align: right;\">  Iris-setosa</th><th style=\"text-align: right;\">  Iris-versicolor</th><th style=\"text-align: right;\">  Iris-virginica</th></tr>\n",
       "</thead>\n",
       "<tbody>\n",
       "<tr><td>Iris-setosa</td><td style=\"text-align: right;\">     0.9997  </td><td style=\"text-align: right;\">      0.000300129</td><td style=\"text-align: right;\">     1.56711e-22</td></tr>\n",
       "<tr><td>Iris-setosa</td><td style=\"text-align: right;\">     0.999966</td><td style=\"text-align: right;\">      3.3646e-05 </td><td style=\"text-align: right;\">     3.5781e-23 </td></tr>\n",
       "<tr><td>Iris-setosa</td><td style=\"text-align: right;\">     0.999673</td><td style=\"text-align: right;\">      0.000326937</td><td style=\"text-align: right;\">     1.84535e-22</td></tr>\n",
       "<tr><td>Iris-setosa</td><td style=\"text-align: right;\">     0.999911</td><td style=\"text-align: right;\">      8.88047e-05</td><td style=\"text-align: right;\">     2.30238e-23</td></tr>\n",
       "<tr><td>Iris-setosa</td><td style=\"text-align: right;\">     0.999985</td><td style=\"text-align: right;\">      1.5447e-05 </td><td style=\"text-align: right;\">     8.44629e-23</td></tr>\n",
       "<tr><td>Iris-setosa</td><td style=\"text-align: right;\">     0.999699</td><td style=\"text-align: right;\">      0.000300548</td><td style=\"text-align: right;\">     1.12273e-21</td></tr>\n",
       "<tr><td>Iris-setosa</td><td style=\"text-align: right;\">     0.999987</td><td style=\"text-align: right;\">      1.26757e-05</td><td style=\"text-align: right;\">     1.75443e-23</td></tr>\n",
       "<tr><td>Iris-setosa</td><td style=\"text-align: right;\">     0.999884</td><td style=\"text-align: right;\">      0.000115611</td><td style=\"text-align: right;\">     1.33082e-21</td></tr>\n",
       "<tr><td>Iris-setosa</td><td style=\"text-align: right;\">     0.99989 </td><td style=\"text-align: right;\">      0.000109617</td><td style=\"text-align: right;\">     7.7332e-23 </td></tr>\n",
       "<tr><td>Iris-setosa</td><td style=\"text-align: right;\">     0.999767</td><td style=\"text-align: right;\">      0.000233058</td><td style=\"text-align: right;\">     5.16574e-22</td></tr>\n",
       "</tbody>\n",
       "</table>"
      ]
     },
     "metadata": {},
     "output_type": "display_data"
    },
    {
     "data": {
      "text/plain": []
     },
     "execution_count": 9,
     "metadata": {},
     "output_type": "execute_result"
    }
   ],
   "source": [
    "p"
   ]
  },
  {
   "cell_type": "code",
   "execution_count": 10,
   "metadata": {},
   "outputs": [
    {
     "data": {
      "text/html": [
       "<div>\n",
       "<style scoped>\n",
       "    .dataframe tbody tr th:only-of-type {\n",
       "        vertical-align: middle;\n",
       "    }\n",
       "\n",
       "    .dataframe tbody tr th {\n",
       "        vertical-align: top;\n",
       "    }\n",
       "\n",
       "    .dataframe thead th {\n",
       "        text-align: right;\n",
       "    }\n",
       "</style>\n",
       "<table border=\"1\" class=\"dataframe\">\n",
       "  <thead>\n",
       "    <tr style=\"text-align: right;\">\n",
       "      <th></th>\n",
       "      <th>predict</th>\n",
       "      <th>Iris-setosa</th>\n",
       "      <th>Iris-versicolor</th>\n",
       "      <th>Iris-virginica</th>\n",
       "    </tr>\n",
       "  </thead>\n",
       "  <tbody>\n",
       "    <tr>\n",
       "      <th>0</th>\n",
       "      <td>Iris-setosa</td>\n",
       "      <td>9.996999e-01</td>\n",
       "      <td>3.001289e-04</td>\n",
       "      <td>1.567111e-22</td>\n",
       "    </tr>\n",
       "    <tr>\n",
       "      <th>1</th>\n",
       "      <td>Iris-setosa</td>\n",
       "      <td>9.999664e-01</td>\n",
       "      <td>3.364601e-05</td>\n",
       "      <td>3.578098e-23</td>\n",
       "    </tr>\n",
       "    <tr>\n",
       "      <th>2</th>\n",
       "      <td>Iris-setosa</td>\n",
       "      <td>9.996731e-01</td>\n",
       "      <td>3.269371e-04</td>\n",
       "      <td>1.845348e-22</td>\n",
       "    </tr>\n",
       "    <tr>\n",
       "      <th>3</th>\n",
       "      <td>Iris-setosa</td>\n",
       "      <td>9.999112e-01</td>\n",
       "      <td>8.880466e-05</td>\n",
       "      <td>2.302381e-23</td>\n",
       "    </tr>\n",
       "    <tr>\n",
       "      <th>4</th>\n",
       "      <td>Iris-setosa</td>\n",
       "      <td>9.999846e-01</td>\n",
       "      <td>1.544697e-05</td>\n",
       "      <td>8.446289e-23</td>\n",
       "    </tr>\n",
       "    <tr>\n",
       "      <th>5</th>\n",
       "      <td>Iris-setosa</td>\n",
       "      <td>9.996995e-01</td>\n",
       "      <td>3.005478e-04</td>\n",
       "      <td>1.122725e-21</td>\n",
       "    </tr>\n",
       "    <tr>\n",
       "      <th>6</th>\n",
       "      <td>Iris-setosa</td>\n",
       "      <td>9.999873e-01</td>\n",
       "      <td>1.267567e-05</td>\n",
       "      <td>1.754434e-23</td>\n",
       "    </tr>\n",
       "    <tr>\n",
       "      <th>7</th>\n",
       "      <td>Iris-setosa</td>\n",
       "      <td>9.998844e-01</td>\n",
       "      <td>1.156111e-04</td>\n",
       "      <td>1.330823e-21</td>\n",
       "    </tr>\n",
       "    <tr>\n",
       "      <th>8</th>\n",
       "      <td>Iris-setosa</td>\n",
       "      <td>9.998904e-01</td>\n",
       "      <td>1.096172e-04</td>\n",
       "      <td>7.733202e-23</td>\n",
       "    </tr>\n",
       "    <tr>\n",
       "      <th>9</th>\n",
       "      <td>Iris-setosa</td>\n",
       "      <td>9.997669e-01</td>\n",
       "      <td>2.330577e-04</td>\n",
       "      <td>5.165735e-22</td>\n",
       "    </tr>\n",
       "    <tr>\n",
       "      <th>10</th>\n",
       "      <td>Iris-setosa</td>\n",
       "      <td>9.999588e-01</td>\n",
       "      <td>4.122677e-05</td>\n",
       "      <td>3.509266e-23</td>\n",
       "    </tr>\n",
       "    <tr>\n",
       "      <th>11</th>\n",
       "      <td>Iris-versicolor</td>\n",
       "      <td>9.840831e-05</td>\n",
       "      <td>9.391829e-01</td>\n",
       "      <td>6.071869e-02</td>\n",
       "    </tr>\n",
       "    <tr>\n",
       "      <th>12</th>\n",
       "      <td>Iris-versicolor</td>\n",
       "      <td>1.568973e-01</td>\n",
       "      <td>8.431027e-01</td>\n",
       "      <td>6.299776e-08</td>\n",
       "    </tr>\n",
       "    <tr>\n",
       "      <th>13</th>\n",
       "      <td>Iris-versicolor</td>\n",
       "      <td>5.492052e-02</td>\n",
       "      <td>9.446503e-01</td>\n",
       "      <td>4.291641e-04</td>\n",
       "    </tr>\n",
       "    <tr>\n",
       "      <th>14</th>\n",
       "      <td>Iris-versicolor</td>\n",
       "      <td>5.416808e-03</td>\n",
       "      <td>9.945803e-01</td>\n",
       "      <td>2.865950e-06</td>\n",
       "    </tr>\n",
       "    <tr>\n",
       "      <th>15</th>\n",
       "      <td>Iris-versicolor</td>\n",
       "      <td>2.218117e-04</td>\n",
       "      <td>9.833963e-01</td>\n",
       "      <td>1.638190e-02</td>\n",
       "    </tr>\n",
       "    <tr>\n",
       "      <th>16</th>\n",
       "      <td>Iris-versicolor</td>\n",
       "      <td>7.981616e-03</td>\n",
       "      <td>9.920181e-01</td>\n",
       "      <td>2.350724e-07</td>\n",
       "    </tr>\n",
       "    <tr>\n",
       "      <th>17</th>\n",
       "      <td>Iris-versicolor</td>\n",
       "      <td>9.001166e-06</td>\n",
       "      <td>9.129691e-01</td>\n",
       "      <td>8.702190e-02</td>\n",
       "    </tr>\n",
       "    <tr>\n",
       "      <th>18</th>\n",
       "      <td>Iris-versicolor</td>\n",
       "      <td>4.587151e-03</td>\n",
       "      <td>9.947735e-01</td>\n",
       "      <td>6.393919e-04</td>\n",
       "    </tr>\n",
       "    <tr>\n",
       "      <th>19</th>\n",
       "      <td>Iris-versicolor</td>\n",
       "      <td>5.131191e-02</td>\n",
       "      <td>9.486879e-01</td>\n",
       "      <td>1.508930e-07</td>\n",
       "    </tr>\n",
       "    <tr>\n",
       "      <th>20</th>\n",
       "      <td>Iris-versicolor</td>\n",
       "      <td>8.773529e-04</td>\n",
       "      <td>9.979753e-01</td>\n",
       "      <td>1.147361e-03</td>\n",
       "    </tr>\n",
       "    <tr>\n",
       "      <th>21</th>\n",
       "      <td>Iris-versicolor</td>\n",
       "      <td>7.385883e-03</td>\n",
       "      <td>9.923263e-01</td>\n",
       "      <td>2.878003e-04</td>\n",
       "    </tr>\n",
       "    <tr>\n",
       "      <th>22</th>\n",
       "      <td>Iris-virginica</td>\n",
       "      <td>4.333153e-09</td>\n",
       "      <td>3.078483e-05</td>\n",
       "      <td>9.999692e-01</td>\n",
       "    </tr>\n",
       "    <tr>\n",
       "      <th>23</th>\n",
       "      <td>Iris-virginica</td>\n",
       "      <td>1.298879e-12</td>\n",
       "      <td>8.081646e-07</td>\n",
       "      <td>9.999992e-01</td>\n",
       "    </tr>\n",
       "    <tr>\n",
       "      <th>24</th>\n",
       "      <td>Iris-virginica</td>\n",
       "      <td>6.665725e-06</td>\n",
       "      <td>5.774771e-03</td>\n",
       "      <td>9.942186e-01</td>\n",
       "    </tr>\n",
       "    <tr>\n",
       "      <th>25</th>\n",
       "      <td>Iris-virginica</td>\n",
       "      <td>2.568888e-05</td>\n",
       "      <td>1.304321e-02</td>\n",
       "      <td>9.869311e-01</td>\n",
       "    </tr>\n",
       "    <tr>\n",
       "      <th>26</th>\n",
       "      <td>Iris-virginica</td>\n",
       "      <td>4.104035e-08</td>\n",
       "      <td>8.077185e-05</td>\n",
       "      <td>9.999192e-01</td>\n",
       "    </tr>\n",
       "  </tbody>\n",
       "</table>\n",
       "</div>"
      ],
      "text/plain": [
       "            predict   Iris-setosa  Iris-versicolor  Iris-virginica\n",
       "0       Iris-setosa  9.996999e-01     3.001289e-04    1.567111e-22\n",
       "1       Iris-setosa  9.999664e-01     3.364601e-05    3.578098e-23\n",
       "2       Iris-setosa  9.996731e-01     3.269371e-04    1.845348e-22\n",
       "3       Iris-setosa  9.999112e-01     8.880466e-05    2.302381e-23\n",
       "4       Iris-setosa  9.999846e-01     1.544697e-05    8.446289e-23\n",
       "5       Iris-setosa  9.996995e-01     3.005478e-04    1.122725e-21\n",
       "6       Iris-setosa  9.999873e-01     1.267567e-05    1.754434e-23\n",
       "7       Iris-setosa  9.998844e-01     1.156111e-04    1.330823e-21\n",
       "8       Iris-setosa  9.998904e-01     1.096172e-04    7.733202e-23\n",
       "9       Iris-setosa  9.997669e-01     2.330577e-04    5.165735e-22\n",
       "10      Iris-setosa  9.999588e-01     4.122677e-05    3.509266e-23\n",
       "11  Iris-versicolor  9.840831e-05     9.391829e-01    6.071869e-02\n",
       "12  Iris-versicolor  1.568973e-01     8.431027e-01    6.299776e-08\n",
       "13  Iris-versicolor  5.492052e-02     9.446503e-01    4.291641e-04\n",
       "14  Iris-versicolor  5.416808e-03     9.945803e-01    2.865950e-06\n",
       "15  Iris-versicolor  2.218117e-04     9.833963e-01    1.638190e-02\n",
       "16  Iris-versicolor  7.981616e-03     9.920181e-01    2.350724e-07\n",
       "17  Iris-versicolor  9.001166e-06     9.129691e-01    8.702190e-02\n",
       "18  Iris-versicolor  4.587151e-03     9.947735e-01    6.393919e-04\n",
       "19  Iris-versicolor  5.131191e-02     9.486879e-01    1.508930e-07\n",
       "20  Iris-versicolor  8.773529e-04     9.979753e-01    1.147361e-03\n",
       "21  Iris-versicolor  7.385883e-03     9.923263e-01    2.878003e-04\n",
       "22   Iris-virginica  4.333153e-09     3.078483e-05    9.999692e-01\n",
       "23   Iris-virginica  1.298879e-12     8.081646e-07    9.999992e-01\n",
       "24   Iris-virginica  6.665725e-06     5.774771e-03    9.942186e-01\n",
       "25   Iris-virginica  2.568888e-05     1.304321e-02    9.869311e-01\n",
       "26   Iris-virginica  4.104035e-08     8.077185e-05    9.999192e-01"
      ]
     },
     "execution_count": 10,
     "metadata": {},
     "output_type": "execute_result"
    }
   ],
   "source": [
    "p.as_data_frame()"
   ]
  },
  {
   "cell_type": "code",
   "execution_count": null,
   "metadata": {},
   "outputs": [],
   "source": []
  }
 ],
 "metadata": {
  "kernelspec": {
   "display_name": "Python 3",
   "language": "python",
   "name": "python3"
  },
  "language_info": {
   "codemirror_mode": {
    "name": "ipython",
    "version": 3
   },
   "file_extension": ".py",
   "mimetype": "text/x-python",
   "name": "python",
   "nbconvert_exporter": "python",
   "pygments_lexer": "ipython3",
   "version": "3.6.7"
  }
 },
 "nbformat": 4,
 "nbformat_minor": 2
}
