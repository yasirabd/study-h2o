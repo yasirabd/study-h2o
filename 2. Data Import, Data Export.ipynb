{
 "cells": [
  {
   "cell_type": "markdown",
   "metadata": {},
   "source": [
    "# Getting data into H2O"
   ]
  },
  {
   "cell_type": "code",
   "execution_count": 1,
   "metadata": {},
   "outputs": [
    {
     "name": "stdout",
     "output_type": "stream",
     "text": [
      "Checking whether there is an H2O instance running at http://localhost:54321..... not found.\n",
      "Attempting to start a local H2O server...\n",
      "; Java HotSpot(TM) 64-Bit Server VM (build 25.171-b11, mixed mode)\n",
      "  Starting server from C:\\Users\\Protech\\Anaconda3\\lib\\site-packages\\h2o\\backend\\bin\\h2o.jar\n",
      "  Ice root: C:\\Users\\Protech\\AppData\\Local\\Temp\\tmpyp_27orw\n",
      "  JVM stdout: C:\\Users\\Protech\\AppData\\Local\\Temp\\tmpyp_27orw\\h2o_Protech_started_from_python.out\n",
      "  JVM stderr: C:\\Users\\Protech\\AppData\\Local\\Temp\\tmpyp_27orw\\h2o_Protech_started_from_python.err\n",
      "  Server is running at http://127.0.0.1:54321\n",
      "Connecting to H2O server at http://127.0.0.1:54321... successful.\n"
     ]
    },
    {
     "data": {
      "text/html": [
       "<div style=\"overflow:auto\"><table style=\"width:50%\"><tr><td>H2O cluster uptime:</td>\n",
       "<td>02 secs</td></tr>\n",
       "<tr><td>H2O cluster timezone:</td>\n",
       "<td>Asia/Bangkok</td></tr>\n",
       "<tr><td>H2O data parsing timezone:</td>\n",
       "<td>UTC</td></tr>\n",
       "<tr><td>H2O cluster version:</td>\n",
       "<td>3.22.1.2</td></tr>\n",
       "<tr><td>H2O cluster version age:</td>\n",
       "<td>13 days </td></tr>\n",
       "<tr><td>H2O cluster name:</td>\n",
       "<td>H2O_from_python_Protech_ji3100</td></tr>\n",
       "<tr><td>H2O cluster total nodes:</td>\n",
       "<td>1</td></tr>\n",
       "<tr><td>H2O cluster free memory:</td>\n",
       "<td>1.755 Gb</td></tr>\n",
       "<tr><td>H2O cluster total cores:</td>\n",
       "<td>4</td></tr>\n",
       "<tr><td>H2O cluster allowed cores:</td>\n",
       "<td>4</td></tr>\n",
       "<tr><td>H2O cluster status:</td>\n",
       "<td>accepting new members, healthy</td></tr>\n",
       "<tr><td>H2O connection url:</td>\n",
       "<td>http://127.0.0.1:54321</td></tr>\n",
       "<tr><td>H2O connection proxy:</td>\n",
       "<td>None</td></tr>\n",
       "<tr><td>H2O internal security:</td>\n",
       "<td>False</td></tr>\n",
       "<tr><td>H2O API Extensions:</td>\n",
       "<td>Algos, AutoML, Core V3, Core V4</td></tr>\n",
       "<tr><td>Python version:</td>\n",
       "<td>3.6.7 final</td></tr></table></div>"
      ],
      "text/plain": [
       "--------------------------  -------------------------------\n",
       "H2O cluster uptime:         02 secs\n",
       "H2O cluster timezone:       Asia/Bangkok\n",
       "H2O data parsing timezone:  UTC\n",
       "H2O cluster version:        3.22.1.2\n",
       "H2O cluster version age:    13 days\n",
       "H2O cluster name:           H2O_from_python_Protech_ji3100\n",
       "H2O cluster total nodes:    1\n",
       "H2O cluster free memory:    1.755 Gb\n",
       "H2O cluster total cores:    4\n",
       "H2O cluster allowed cores:  4\n",
       "H2O cluster status:         accepting new members, healthy\n",
       "H2O connection url:         http://127.0.0.1:54321\n",
       "H2O connection proxy:\n",
       "H2O internal security:      False\n",
       "H2O API Extensions:         Algos, AutoML, Core V3, Core V4\n",
       "Python version:             3.6.7 final\n",
       "--------------------------  -------------------------------"
      ]
     },
     "metadata": {},
     "output_type": "display_data"
    }
   ],
   "source": [
    "import h2o\n",
    "h2o.init()"
   ]
  },
  {
   "cell_type": "code",
   "execution_count": 2,
   "metadata": {},
   "outputs": [
    {
     "name": "stdout",
     "output_type": "stream",
     "text": [
      "Parse progress: |█████████████████████████████████████████████████████████| 100%\n"
     ]
    }
   ],
   "source": [
    "datasets = \"https://raw.githubusercontent.com/DarrenCook/h2o/bk/datasets/\"\n",
    "data = h2o.import_file(datasets + \"iris.csv\",\n",
    "    col_names=[\n",
    "        \"Sepal length\", \"Sepal width\", \"Petal length\", \"Petal width\", \"Species\"\n",
    "        ],\n",
    "    col_types=[\n",
    "        \"numeric\", \"numeric\", \"numeric\", \"numeric\", \"enum\"\n",
    "        ],\n",
    "    destination_frame=\"iris.hex\"\n",
    "    )"
   ]
  },
  {
   "cell_type": "code",
   "execution_count": 3,
   "metadata": {},
   "outputs": [
    {
     "name": "stdout",
     "output_type": "stream",
     "text": [
      "Parse progress: |█████████████████████████████████████████████████████████| 100%\n"
     ]
    },
    {
     "data": {
      "text/plain": [
       "{'height': 'int', 'age': 'int', 'risk': 'enum'}"
      ]
     },
     "execution_count": 3,
     "metadata": {},
     "output_type": "execute_result"
    }
   ],
   "source": [
    "patients = {'height':[188, 157, 175],  \n",
    "            'age':[29, 33, 65],  \n",
    "            'risk':['A', 'B', 'B']}\n",
    "df = h2o.H2OFrame(patients)\n",
    "df.types"
   ]
  },
  {
   "cell_type": "code",
   "execution_count": 4,
   "metadata": {},
   "outputs": [
    {
     "name": "stdout",
     "output_type": "stream",
     "text": [
      "Parse progress: |█████████████████████████████████████████████████████████| 100%\n"
     ]
    },
    {
     "data": {
      "text/plain": [
       "'patients'"
      ]
     },
     "execution_count": 4,
     "metadata": {},
     "output_type": "execute_result"
    }
   ],
   "source": [
    "df =  h2o.H2OFrame.from_python(\n",
    "    patients,\n",
    "    column_types=['enum', None, None],\n",
    "    destination_frame=\"patients\"\n",
    ")\n",
    "df.types\n",
    "df.frame_id"
   ]
  },
  {
   "cell_type": "code",
   "execution_count": 5,
   "metadata": {},
   "outputs": [
    {
     "name": "stdout",
     "output_type": "stream",
     "text": [
      "Parse progress: |█████████████████████████████████████████████████████████| 100%\n"
     ]
    },
    {
     "data": {
      "text/html": [
       "<table>\n",
       "<thead>\n",
       "<tr><th style=\"text-align: right;\">  height</th><th style=\"text-align: right;\">  age</th><th>risk  </th></tr>\n",
       "</thead>\n",
       "<tbody>\n",
       "<tr><td style=\"text-align: right;\">   188  </td><td style=\"text-align: right;\">   29</td><td>A     </td></tr>\n",
       "<tr><td style=\"text-align: right;\">   157  </td><td style=\"text-align: right;\">   33</td><td>B     </td></tr>\n",
       "<tr><td style=\"text-align: right;\">   175.1</td><td style=\"text-align: right;\">   65</td><td>B     </td></tr>\n",
       "</tbody>\n",
       "</table>"
      ]
     },
     "metadata": {},
     "output_type": "display_data"
    },
    {
     "data": {
      "text/plain": []
     },
     "execution_count": 5,
     "metadata": {},
     "output_type": "execute_result"
    }
   ],
   "source": [
    "import pandas as pd\n",
    "patients = pd.DataFrame({\n",
    "  'height':[188, 157, 175.1],\n",
    "  'age':[29, 33, 65],\n",
    "  'risk':['A', 'B', 'B']\n",
    "  })\n",
    "df = h2o.H2OFrame(patients)\n",
    "df.types\n",
    "df.frame_id\n",
    "df"
   ]
  },
  {
   "cell_type": "code",
   "execution_count": 6,
   "metadata": {},
   "outputs": [
    {
     "name": "stdout",
     "output_type": "stream",
     "text": [
      "Parse progress: |█████████████████████████████████████████████████████████| 100%\n"
     ]
    },
    {
     "data": {
      "text/plain": [
       "'Key_Frame__upload_a624ce575e361017eb50d58480a6434e.hex'"
      ]
     },
     "execution_count": 6,
     "metadata": {},
     "output_type": "execute_result"
    }
   ],
   "source": [
    "patients = pd.DataFrame({\n",
    "  'height':[188, 157, 175.1],\n",
    "  'age':[29, 33, 65],\n",
    "  'risk':['A', 'B', 'B']\n",
    "  })\n",
    "df = h2o.H2OFrame.from_python(\n",
    "  patients,\n",
    "  column_names=patients.columns.tolist()\n",
    "  )\n",
    "df.types\n",
    "df.frame_id"
   ]
  },
  {
   "cell_type": "markdown",
   "metadata": {},
   "source": [
    "# Data Manipulation"
   ]
  },
  {
   "cell_type": "code",
   "execution_count": 7,
   "metadata": {},
   "outputs": [
    {
     "name": "stdout",
     "output_type": "stream",
     "text": [
      "Checking whether there is an H2O instance running at http://localhost:54321. connected.\n"
     ]
    },
    {
     "data": {
      "text/html": [
       "<div style=\"overflow:auto\"><table style=\"width:50%\"><tr><td>H2O cluster uptime:</td>\n",
       "<td>14 secs</td></tr>\n",
       "<tr><td>H2O cluster timezone:</td>\n",
       "<td>Asia/Bangkok</td></tr>\n",
       "<tr><td>H2O data parsing timezone:</td>\n",
       "<td>UTC</td></tr>\n",
       "<tr><td>H2O cluster version:</td>\n",
       "<td>3.22.1.2</td></tr>\n",
       "<tr><td>H2O cluster version age:</td>\n",
       "<td>13 days </td></tr>\n",
       "<tr><td>H2O cluster name:</td>\n",
       "<td>H2O_from_python_Protech_ji3100</td></tr>\n",
       "<tr><td>H2O cluster total nodes:</td>\n",
       "<td>1</td></tr>\n",
       "<tr><td>H2O cluster free memory:</td>\n",
       "<td>1.743 Gb</td></tr>\n",
       "<tr><td>H2O cluster total cores:</td>\n",
       "<td>4</td></tr>\n",
       "<tr><td>H2O cluster allowed cores:</td>\n",
       "<td>4</td></tr>\n",
       "<tr><td>H2O cluster status:</td>\n",
       "<td>locked, healthy</td></tr>\n",
       "<tr><td>H2O connection url:</td>\n",
       "<td>http://localhost:54321</td></tr>\n",
       "<tr><td>H2O connection proxy:</td>\n",
       "<td>None</td></tr>\n",
       "<tr><td>H2O internal security:</td>\n",
       "<td>False</td></tr>\n",
       "<tr><td>H2O API Extensions:</td>\n",
       "<td>Algos, AutoML, Core V3, Core V4</td></tr>\n",
       "<tr><td>Python version:</td>\n",
       "<td>3.6.7 final</td></tr></table></div>"
      ],
      "text/plain": [
       "--------------------------  -------------------------------\n",
       "H2O cluster uptime:         14 secs\n",
       "H2O cluster timezone:       Asia/Bangkok\n",
       "H2O data parsing timezone:  UTC\n",
       "H2O cluster version:        3.22.1.2\n",
       "H2O cluster version age:    13 days\n",
       "H2O cluster name:           H2O_from_python_Protech_ji3100\n",
       "H2O cluster total nodes:    1\n",
       "H2O cluster free memory:    1.743 Gb\n",
       "H2O cluster total cores:    4\n",
       "H2O cluster allowed cores:  4\n",
       "H2O cluster status:         locked, healthy\n",
       "H2O connection url:         http://localhost:54321\n",
       "H2O connection proxy:\n",
       "H2O internal security:      False\n",
       "H2O API Extensions:         Algos, AutoML, Core V3, Core V4\n",
       "Python version:             3.6.7 final\n",
       "--------------------------  -------------------------------"
      ]
     },
     "metadata": {},
     "output_type": "display_data"
    },
    {
     "name": "stdout",
     "output_type": "stream",
     "text": [
      "Parse progress: |█████████████████████████████████████████████████████████| 100%\n"
     ]
    },
    {
     "data": {
      "text/html": [
       "<div>\n",
       "<style scoped>\n",
       "    .dataframe tbody tr th:only-of-type {\n",
       "        vertical-align: middle;\n",
       "    }\n",
       "\n",
       "    .dataframe tbody tr th {\n",
       "        vertical-align: top;\n",
       "    }\n",
       "\n",
       "    .dataframe thead th {\n",
       "        text-align: right;\n",
       "    }\n",
       "</style>\n",
       "<table border=\"1\" class=\"dataframe\">\n",
       "  <thead>\n",
       "    <tr style=\"text-align: right;\">\n",
       "      <th></th>\n",
       "      <th>key</th>\n",
       "    </tr>\n",
       "  </thead>\n",
       "  <tbody>\n",
       "    <tr>\n",
       "      <th>0</th>\n",
       "      <td>Key_Frame__https___raw_githubusercontent_com_D...</td>\n",
       "    </tr>\n",
       "    <tr>\n",
       "      <th>1</th>\n",
       "      <td>Key_Frame__upload_9dfb237d13e176e47430c97b9268...</td>\n",
       "    </tr>\n",
       "    <tr>\n",
       "      <th>2</th>\n",
       "      <td>Key_Frame__upload_a624ce575e361017eb50d58480a6...</td>\n",
       "    </tr>\n",
       "    <tr>\n",
       "      <th>3</th>\n",
       "      <td>Key_Frame__upload_b2605783498df9a1ffcda68a60ef...</td>\n",
       "    </tr>\n",
       "    <tr>\n",
       "      <th>4</th>\n",
       "      <td>iris</td>\n",
       "    </tr>\n",
       "    <tr>\n",
       "      <th>5</th>\n",
       "      <td>iris.hex</td>\n",
       "    </tr>\n",
       "    <tr>\n",
       "      <th>6</th>\n",
       "      <td>patients</td>\n",
       "    </tr>\n",
       "    <tr>\n",
       "      <th>7</th>\n",
       "      <td>py_2_sid_b9d7</td>\n",
       "    </tr>\n",
       "  </tbody>\n",
       "</table>\n",
       "</div>"
      ],
      "text/plain": [
       "                                                 key\n",
       "0  Key_Frame__https___raw_githubusercontent_com_D...\n",
       "1  Key_Frame__upload_9dfb237d13e176e47430c97b9268...\n",
       "2  Key_Frame__upload_a624ce575e361017eb50d58480a6...\n",
       "3  Key_Frame__upload_b2605783498df9a1ffcda68a60ef...\n",
       "4                                               iris\n",
       "5                                           iris.hex\n",
       "6                                           patients\n",
       "7                                      py_2_sid_b9d7"
      ]
     },
     "execution_count": 7,
     "metadata": {},
     "output_type": "execute_result"
    }
   ],
   "source": [
    "import h2o\n",
    "h2o.init()\n",
    "\n",
    "datasets = \"https://raw.githubusercontent.com/DarrenCook/h2o/bk/datasets/\"\n",
    "data = h2o.import_file(datasets + \"iris_wheader.csv\")\n",
    "data.frame_id  #iris_wheader.hex\n",
    "\n",
    "data = data[:,1:] #Drop column 0. Keep column 1 onwards.\n",
    "data.frame_id  #py_2_sid_88fe\n",
    "\n",
    "data = h2o.assign(data, \"iris\")\n",
    "data.frame_id  #iris\n",
    "\n",
    "h2o.ls()  #iris and iris_wheader.hex, no py_2_sid_88fe\n",
    "h2o.remove(\"iris_wheader.hex\")\n",
    "h2o.ls()  #Just lists iris"
   ]
  },
  {
   "cell_type": "code",
   "execution_count": 8,
   "metadata": {},
   "outputs": [
    {
     "name": "stdout",
     "output_type": "stream",
     "text": [
      "Rows:150\n",
      "Cols:4\n",
      "\n",
      "\n"
     ]
    },
    {
     "data": {
      "text/html": [
       "<table>\n",
       "<thead>\n",
       "<tr><th>       </th><th>sepal_wid          </th><th>petal_len        </th><th>petal_wid         </th><th>class      </th></tr>\n",
       "</thead>\n",
       "<tbody>\n",
       "<tr><td>type   </td><td>real               </td><td>real             </td><td>real              </td><td>enum       </td></tr>\n",
       "<tr><td>mins   </td><td>2.0                </td><td>1.0              </td><td>0.1               </td><td>           </td></tr>\n",
       "<tr><td>mean   </td><td>3.053999999999999  </td><td>3.758666666666667</td><td>1.1986666666666665</td><td>           </td></tr>\n",
       "<tr><td>maxs   </td><td>4.4                </td><td>6.9              </td><td>2.5               </td><td>           </td></tr>\n",
       "<tr><td>sigma  </td><td>0.43359431136217375</td><td>1.764420419952262</td><td>0.7631607417008414</td><td>           </td></tr>\n",
       "<tr><td>zeros  </td><td>0                  </td><td>0                </td><td>0                 </td><td>           </td></tr>\n",
       "<tr><td>missing</td><td>0                  </td><td>0                </td><td>0                 </td><td>0          </td></tr>\n",
       "<tr><td>0      </td><td>3.5                </td><td>1.4              </td><td>0.2               </td><td>Iris-setosa</td></tr>\n",
       "<tr><td>1      </td><td>3.0                </td><td>1.4              </td><td>0.2               </td><td>Iris-setosa</td></tr>\n",
       "<tr><td>2      </td><td>3.2                </td><td>1.3              </td><td>0.2               </td><td>Iris-setosa</td></tr>\n",
       "<tr><td>3      </td><td>3.1                </td><td>1.5              </td><td>0.2               </td><td>Iris-setosa</td></tr>\n",
       "<tr><td>4      </td><td>3.6                </td><td>1.4              </td><td>0.2               </td><td>Iris-setosa</td></tr>\n",
       "<tr><td>5      </td><td>3.9                </td><td>1.7              </td><td>0.4               </td><td>Iris-setosa</td></tr>\n",
       "<tr><td>6      </td><td>3.4                </td><td>1.4              </td><td>0.3               </td><td>Iris-setosa</td></tr>\n",
       "<tr><td>7      </td><td>3.4                </td><td>1.5              </td><td>0.2               </td><td>Iris-setosa</td></tr>\n",
       "<tr><td>8      </td><td>2.9                </td><td>1.4              </td><td>0.2               </td><td>Iris-setosa</td></tr>\n",
       "<tr><td>9      </td><td>3.1                </td><td>1.5              </td><td>0.1               </td><td>Iris-setosa</td></tr>\n",
       "</tbody>\n",
       "</table>"
      ]
     },
     "metadata": {},
     "output_type": "display_data"
    }
   ],
   "source": [
    "data.describe()"
   ]
  },
  {
   "cell_type": "code",
   "execution_count": 9,
   "metadata": {},
   "outputs": [
    {
     "data": {
      "text/plain": [
       "[150, 4]"
      ]
     },
     "execution_count": 9,
     "metadata": {},
     "output_type": "execute_result"
    }
   ],
   "source": [
    "data.dim"
   ]
  },
  {
   "cell_type": "code",
   "execution_count": 10,
   "metadata": {},
   "outputs": [
    {
     "data": {
      "text/plain": [
       "150"
      ]
     },
     "execution_count": 10,
     "metadata": {},
     "output_type": "execute_result"
    }
   ],
   "source": [
    "data.nrow"
   ]
  },
  {
   "cell_type": "code",
   "execution_count": 11,
   "metadata": {},
   "outputs": [
    {
     "data": {
      "text/plain": [
       "4"
      ]
     },
     "execution_count": 11,
     "metadata": {},
     "output_type": "execute_result"
    }
   ],
   "source": [
    "data.ncol"
   ]
  },
  {
   "cell_type": "code",
   "execution_count": 12,
   "metadata": {},
   "outputs": [],
   "source": [
    "data[\"petal_len\"] = data[\"petal_len\"] * 1.2"
   ]
  },
  {
   "cell_type": "code",
   "execution_count": 13,
   "metadata": {},
   "outputs": [
    {
     "data": {
      "text/html": [
       "<table>\n",
       "<thead>\n",
       "<tr><th style=\"text-align: right;\">  sepal_wid</th><th style=\"text-align: right;\">  petal_len</th><th style=\"text-align: right;\">  petal_wid</th><th>class      </th></tr>\n",
       "</thead>\n",
       "<tbody>\n",
       "<tr><td style=\"text-align: right;\">        3.5</td><td style=\"text-align: right;\">       1.68</td><td style=\"text-align: right;\">        0.2</td><td>Iris-setosa</td></tr>\n",
       "<tr><td style=\"text-align: right;\">        3  </td><td style=\"text-align: right;\">       1.68</td><td style=\"text-align: right;\">        0.2</td><td>Iris-setosa</td></tr>\n",
       "<tr><td style=\"text-align: right;\">        3.2</td><td style=\"text-align: right;\">       1.56</td><td style=\"text-align: right;\">        0.2</td><td>Iris-setosa</td></tr>\n",
       "<tr><td style=\"text-align: right;\">        3.1</td><td style=\"text-align: right;\">       1.8 </td><td style=\"text-align: right;\">        0.2</td><td>Iris-setosa</td></tr>\n",
       "<tr><td style=\"text-align: right;\">        3.6</td><td style=\"text-align: right;\">       1.68</td><td style=\"text-align: right;\">        0.2</td><td>Iris-setosa</td></tr>\n",
       "<tr><td style=\"text-align: right;\">        3.9</td><td style=\"text-align: right;\">       2.04</td><td style=\"text-align: right;\">        0.4</td><td>Iris-setosa</td></tr>\n",
       "<tr><td style=\"text-align: right;\">        3.4</td><td style=\"text-align: right;\">       1.68</td><td style=\"text-align: right;\">        0.3</td><td>Iris-setosa</td></tr>\n",
       "<tr><td style=\"text-align: right;\">        3.4</td><td style=\"text-align: right;\">       1.8 </td><td style=\"text-align: right;\">        0.2</td><td>Iris-setosa</td></tr>\n",
       "<tr><td style=\"text-align: right;\">        2.9</td><td style=\"text-align: right;\">       1.68</td><td style=\"text-align: right;\">        0.2</td><td>Iris-setosa</td></tr>\n",
       "<tr><td style=\"text-align: right;\">        3.1</td><td style=\"text-align: right;\">       1.8 </td><td style=\"text-align: right;\">        0.1</td><td>Iris-setosa</td></tr>\n",
       "</tbody>\n",
       "</table>"
      ]
     },
     "metadata": {},
     "output_type": "display_data"
    },
    {
     "data": {
      "text/plain": [
       "<bound method H2OFrame.describe of >"
      ]
     },
     "execution_count": 13,
     "metadata": {},
     "output_type": "execute_result"
    }
   ],
   "source": [
    "data.describe"
   ]
  },
  {
   "cell_type": "code",
   "execution_count": 14,
   "metadata": {},
   "outputs": [
    {
     "data": {
      "text/plain": [
       "0.9557785904293422"
      ]
     },
     "execution_count": 14,
     "metadata": {},
     "output_type": "execute_result"
    }
   ],
   "source": [
    "data[\"ratio\"] = data[\"petal_wid\"] / data[\"sepal_wid\"]\n",
    "data[\"petal_len\"].sd() #2.117\n",
    "data[\"ratio\"].cor(data[\"petal_len\"])  #0.956"
   ]
  },
  {
   "cell_type": "code",
   "execution_count": 15,
   "metadata": {},
   "outputs": [
    {
     "data": {
      "text/html": [
       "<table>\n",
       "<thead>\n",
       "<tr><th style=\"text-align: right;\">  sepal_wid</th><th style=\"text-align: right;\">  petal_len</th><th style=\"text-align: right;\">  petal_wid</th><th>class      </th><th style=\"text-align: right;\">    ratio</th></tr>\n",
       "</thead>\n",
       "<tbody>\n",
       "<tr><td style=\"text-align: right;\">        3.5</td><td style=\"text-align: right;\">       1.68</td><td style=\"text-align: right;\">        0.2</td><td>Iris-setosa</td><td style=\"text-align: right;\">0.0571429</td></tr>\n",
       "<tr><td style=\"text-align: right;\">        3  </td><td style=\"text-align: right;\">       1.68</td><td style=\"text-align: right;\">        0.2</td><td>Iris-setosa</td><td style=\"text-align: right;\">0.0666667</td></tr>\n",
       "<tr><td style=\"text-align: right;\">        3.2</td><td style=\"text-align: right;\">       1.56</td><td style=\"text-align: right;\">        0.2</td><td>Iris-setosa</td><td style=\"text-align: right;\">0.0625   </td></tr>\n",
       "<tr><td style=\"text-align: right;\">        3.1</td><td style=\"text-align: right;\">       1.8 </td><td style=\"text-align: right;\">        0.2</td><td>Iris-setosa</td><td style=\"text-align: right;\">0.0645161</td></tr>\n",
       "<tr><td style=\"text-align: right;\">        3.6</td><td style=\"text-align: right;\">       1.68</td><td style=\"text-align: right;\">        0.2</td><td>Iris-setosa</td><td style=\"text-align: right;\">0.0555556</td></tr>\n",
       "<tr><td style=\"text-align: right;\">        3.9</td><td style=\"text-align: right;\">       2.04</td><td style=\"text-align: right;\">        0.4</td><td>Iris-setosa</td><td style=\"text-align: right;\">0.102564 </td></tr>\n",
       "<tr><td style=\"text-align: right;\">        3.4</td><td style=\"text-align: right;\">       1.68</td><td style=\"text-align: right;\">        0.3</td><td>Iris-setosa</td><td style=\"text-align: right;\">0.0882353</td></tr>\n",
       "<tr><td style=\"text-align: right;\">        3.4</td><td style=\"text-align: right;\">       1.8 </td><td style=\"text-align: right;\">        0.2</td><td>Iris-setosa</td><td style=\"text-align: right;\">0.0588235</td></tr>\n",
       "<tr><td style=\"text-align: right;\">        2.9</td><td style=\"text-align: right;\">       1.68</td><td style=\"text-align: right;\">        0.2</td><td>Iris-setosa</td><td style=\"text-align: right;\">0.0689655</td></tr>\n",
       "<tr><td style=\"text-align: right;\">        3.1</td><td style=\"text-align: right;\">       1.8 </td><td style=\"text-align: right;\">        0.1</td><td>Iris-setosa</td><td style=\"text-align: right;\">0.0322581</td></tr>\n",
       "</tbody>\n",
       "</table>"
      ]
     },
     "metadata": {},
     "output_type": "display_data"
    },
    {
     "data": {
      "text/plain": []
     },
     "execution_count": 15,
     "metadata": {},
     "output_type": "execute_result"
    }
   ],
   "source": [
    "data.head()"
   ]
  },
  {
   "cell_type": "code",
   "execution_count": 16,
   "metadata": {},
   "outputs": [],
   "source": [
    "data[\"is_long\"] = (data[\"petal_len\"] > data[\"petal_len\"].mean()[0]).ifelse(1,0)"
   ]
  },
  {
   "cell_type": "code",
   "execution_count": 17,
   "metadata": {},
   "outputs": [
    {
     "data": {
      "text/html": [
       "<table>\n",
       "<thead>\n",
       "<tr><th style=\"text-align: right;\">  sepal_wid</th><th style=\"text-align: right;\">  petal_len</th><th style=\"text-align: right;\">  petal_wid</th><th>class      </th><th style=\"text-align: right;\">    ratio</th><th style=\"text-align: right;\">  is_long</th></tr>\n",
       "</thead>\n",
       "<tbody>\n",
       "<tr><td style=\"text-align: right;\">        3.5</td><td style=\"text-align: right;\">       1.68</td><td style=\"text-align: right;\">        0.2</td><td>Iris-setosa</td><td style=\"text-align: right;\">0.0571429</td><td style=\"text-align: right;\">        0</td></tr>\n",
       "<tr><td style=\"text-align: right;\">        3  </td><td style=\"text-align: right;\">       1.68</td><td style=\"text-align: right;\">        0.2</td><td>Iris-setosa</td><td style=\"text-align: right;\">0.0666667</td><td style=\"text-align: right;\">        0</td></tr>\n",
       "<tr><td style=\"text-align: right;\">        3.2</td><td style=\"text-align: right;\">       1.56</td><td style=\"text-align: right;\">        0.2</td><td>Iris-setosa</td><td style=\"text-align: right;\">0.0625   </td><td style=\"text-align: right;\">        0</td></tr>\n",
       "<tr><td style=\"text-align: right;\">        3.1</td><td style=\"text-align: right;\">       1.8 </td><td style=\"text-align: right;\">        0.2</td><td>Iris-setosa</td><td style=\"text-align: right;\">0.0645161</td><td style=\"text-align: right;\">        0</td></tr>\n",
       "<tr><td style=\"text-align: right;\">        3.6</td><td style=\"text-align: right;\">       1.68</td><td style=\"text-align: right;\">        0.2</td><td>Iris-setosa</td><td style=\"text-align: right;\">0.0555556</td><td style=\"text-align: right;\">        0</td></tr>\n",
       "<tr><td style=\"text-align: right;\">        3.9</td><td style=\"text-align: right;\">       2.04</td><td style=\"text-align: right;\">        0.4</td><td>Iris-setosa</td><td style=\"text-align: right;\">0.102564 </td><td style=\"text-align: right;\">        0</td></tr>\n",
       "<tr><td style=\"text-align: right;\">        3.4</td><td style=\"text-align: right;\">       1.68</td><td style=\"text-align: right;\">        0.3</td><td>Iris-setosa</td><td style=\"text-align: right;\">0.0882353</td><td style=\"text-align: right;\">        0</td></tr>\n",
       "<tr><td style=\"text-align: right;\">        3.4</td><td style=\"text-align: right;\">       1.8 </td><td style=\"text-align: right;\">        0.2</td><td>Iris-setosa</td><td style=\"text-align: right;\">0.0588235</td><td style=\"text-align: right;\">        0</td></tr>\n",
       "<tr><td style=\"text-align: right;\">        2.9</td><td style=\"text-align: right;\">       1.68</td><td style=\"text-align: right;\">        0.2</td><td>Iris-setosa</td><td style=\"text-align: right;\">0.0689655</td><td style=\"text-align: right;\">        0</td></tr>\n",
       "<tr><td style=\"text-align: right;\">        3.1</td><td style=\"text-align: right;\">       1.8 </td><td style=\"text-align: right;\">        0.1</td><td>Iris-setosa</td><td style=\"text-align: right;\">0.0322581</td><td style=\"text-align: right;\">        0</td></tr>\n",
       "</tbody>\n",
       "</table>"
      ]
     },
     "metadata": {},
     "output_type": "display_data"
    },
    {
     "data": {
      "text/plain": []
     },
     "execution_count": 17,
     "metadata": {},
     "output_type": "execute_result"
    }
   ],
   "source": [
    "data.head()"
   ]
  },
  {
   "cell_type": "code",
   "execution_count": 18,
   "metadata": {},
   "outputs": [],
   "source": [
    "data[\"species\"] = data[\"class\"].ascharacter().gsub(\"Iris-\", \"\")"
   ]
  },
  {
   "cell_type": "code",
   "execution_count": 19,
   "metadata": {},
   "outputs": [
    {
     "data": {
      "text/html": [
       "<table>\n",
       "<thead>\n",
       "<tr><th style=\"text-align: right;\">  sepal_wid</th><th style=\"text-align: right;\">  petal_len</th><th style=\"text-align: right;\">  petal_wid</th><th>class      </th><th style=\"text-align: right;\">    ratio</th><th style=\"text-align: right;\">  is_long</th><th>species  </th></tr>\n",
       "</thead>\n",
       "<tbody>\n",
       "<tr><td style=\"text-align: right;\">        3.5</td><td style=\"text-align: right;\">       1.68</td><td style=\"text-align: right;\">        0.2</td><td>Iris-setosa</td><td style=\"text-align: right;\">0.0571429</td><td style=\"text-align: right;\">        0</td><td>setosa   </td></tr>\n",
       "<tr><td style=\"text-align: right;\">        3  </td><td style=\"text-align: right;\">       1.68</td><td style=\"text-align: right;\">        0.2</td><td>Iris-setosa</td><td style=\"text-align: right;\">0.0666667</td><td style=\"text-align: right;\">        0</td><td>setosa   </td></tr>\n",
       "<tr><td style=\"text-align: right;\">        3.2</td><td style=\"text-align: right;\">       1.56</td><td style=\"text-align: right;\">        0.2</td><td>Iris-setosa</td><td style=\"text-align: right;\">0.0625   </td><td style=\"text-align: right;\">        0</td><td>setosa   </td></tr>\n",
       "<tr><td style=\"text-align: right;\">        3.1</td><td style=\"text-align: right;\">       1.8 </td><td style=\"text-align: right;\">        0.2</td><td>Iris-setosa</td><td style=\"text-align: right;\">0.0645161</td><td style=\"text-align: right;\">        0</td><td>setosa   </td></tr>\n",
       "<tr><td style=\"text-align: right;\">        3.6</td><td style=\"text-align: right;\">       1.68</td><td style=\"text-align: right;\">        0.2</td><td>Iris-setosa</td><td style=\"text-align: right;\">0.0555556</td><td style=\"text-align: right;\">        0</td><td>setosa   </td></tr>\n",
       "<tr><td style=\"text-align: right;\">        3.9</td><td style=\"text-align: right;\">       2.04</td><td style=\"text-align: right;\">        0.4</td><td>Iris-setosa</td><td style=\"text-align: right;\">0.102564 </td><td style=\"text-align: right;\">        0</td><td>setosa   </td></tr>\n",
       "<tr><td style=\"text-align: right;\">        3.4</td><td style=\"text-align: right;\">       1.68</td><td style=\"text-align: right;\">        0.3</td><td>Iris-setosa</td><td style=\"text-align: right;\">0.0882353</td><td style=\"text-align: right;\">        0</td><td>setosa   </td></tr>\n",
       "<tr><td style=\"text-align: right;\">        3.4</td><td style=\"text-align: right;\">       1.8 </td><td style=\"text-align: right;\">        0.2</td><td>Iris-setosa</td><td style=\"text-align: right;\">0.0588235</td><td style=\"text-align: right;\">        0</td><td>setosa   </td></tr>\n",
       "<tr><td style=\"text-align: right;\">        2.9</td><td style=\"text-align: right;\">       1.68</td><td style=\"text-align: right;\">        0.2</td><td>Iris-setosa</td><td style=\"text-align: right;\">0.0689655</td><td style=\"text-align: right;\">        0</td><td>setosa   </td></tr>\n",
       "<tr><td style=\"text-align: right;\">        3.1</td><td style=\"text-align: right;\">       1.8 </td><td style=\"text-align: right;\">        0.1</td><td>Iris-setosa</td><td style=\"text-align: right;\">0.0322581</td><td style=\"text-align: right;\">        0</td><td>setosa   </td></tr>\n",
       "</tbody>\n",
       "</table>"
      ]
     },
     "metadata": {},
     "output_type": "display_data"
    },
    {
     "data": {
      "text/plain": []
     },
     "execution_count": 19,
     "metadata": {},
     "output_type": "execute_result"
    }
   ],
   "source": [
    "data.head()"
   ]
  },
  {
   "cell_type": "code",
   "execution_count": 20,
   "metadata": {},
   "outputs": [
    {
     "data": {
      "text/html": [
       "<table>\n",
       "<thead>\n",
       "<tr><th>class          </th><th style=\"text-align: right;\">  nrow</th><th style=\"text-align: right;\">  mean_petal_len</th><th style=\"text-align: right;\">  sum_is_long</th></tr>\n",
       "</thead>\n",
       "<tbody>\n",
       "<tr><td>Iris-setosa    </td><td style=\"text-align: right;\">    50</td><td style=\"text-align: right;\">          1.7568</td><td style=\"text-align: right;\">            0</td></tr>\n",
       "<tr><td>Iris-versicolor</td><td style=\"text-align: right;\">    50</td><td style=\"text-align: right;\">          5.112 </td><td style=\"text-align: right;\">           43</td></tr>\n",
       "<tr><td>Iris-virginica </td><td style=\"text-align: right;\">    50</td><td style=\"text-align: right;\">          6.6624</td><td style=\"text-align: right;\">           50</td></tr>\n",
       "</tbody>\n",
       "</table>"
      ]
     },
     "metadata": {},
     "output_type": "display_data"
    },
    {
     "data": {
      "text/plain": []
     },
     "execution_count": 20,
     "metadata": {},
     "output_type": "execute_result"
    }
   ],
   "source": [
    "data.group_by(\"class\").count().mean(\"petal_len\").sum(\"is_long\").frame"
   ]
  },
  {
   "cell_type": "code",
   "execution_count": 21,
   "metadata": {},
   "outputs": [
    {
     "ename": "TypeError",
     "evalue": "bar() missing 1 required positional argument: 'x'",
     "output_type": "error",
     "traceback": [
      "\u001b[1;31m---------------------------------------------------------------------------\u001b[0m",
      "\u001b[1;31mTypeError\u001b[0m                                 Traceback (most recent call last)",
      "\u001b[1;32m<ipython-input-21-294e624f3f19>\u001b[0m in \u001b[0;36m<module>\u001b[1;34m\u001b[0m\n\u001b[1;32m----> 1\u001b[1;33m \u001b[0mdata\u001b[0m\u001b[1;33m[\u001b[0m\u001b[1;34m\"petal_len\"\u001b[0m\u001b[1;33m]\u001b[0m\u001b[1;33m.\u001b[0m\u001b[0mhist\u001b[0m\u001b[1;33m(\u001b[0m\u001b[1;33m)\u001b[0m\u001b[1;33m\u001b[0m\u001b[1;33m\u001b[0m\u001b[0m\n\u001b[0m",
      "\u001b[1;32m~\\Anaconda3\\lib\\site-packages\\h2o\\frame.py\u001b[0m in \u001b[0;36mhist\u001b[1;34m(self, breaks, plot, **kwargs)\u001b[0m\n\u001b[0;32m   2538\u001b[0m             \u001b[0mplt\u001b[0m\u001b[1;33m.\u001b[0m\u001b[0mylabel\u001b[0m\u001b[1;33m(\u001b[0m\u001b[1;34m\"Frequency\"\u001b[0m\u001b[1;33m)\u001b[0m\u001b[1;33m\u001b[0m\u001b[1;33m\u001b[0m\u001b[0m\n\u001b[0;32m   2539\u001b[0m             \u001b[0mplt\u001b[0m\u001b[1;33m.\u001b[0m\u001b[0mtitle\u001b[0m\u001b[1;33m(\u001b[0m\u001b[1;34m\"Histogram of %s\"\u001b[0m \u001b[1;33m%\u001b[0m \u001b[0mself\u001b[0m\u001b[1;33m.\u001b[0m\u001b[0mnames\u001b[0m\u001b[1;33m[\u001b[0m\u001b[1;36m0\u001b[0m\u001b[1;33m]\u001b[0m\u001b[1;33m)\u001b[0m\u001b[1;33m\u001b[0m\u001b[1;33m\u001b[0m\u001b[0m\n\u001b[1;32m-> 2540\u001b[1;33m             \u001b[0mplt\u001b[0m\u001b[1;33m.\u001b[0m\u001b[0mbar\u001b[0m\u001b[1;33m(\u001b[0m\u001b[0mleft\u001b[0m\u001b[1;33m=\u001b[0m\u001b[0mlefts\u001b[0m\u001b[1;33m,\u001b[0m \u001b[0mwidth\u001b[0m\u001b[1;33m=\u001b[0m\u001b[0mwidths\u001b[0m\u001b[1;33m,\u001b[0m \u001b[0mheight\u001b[0m\u001b[1;33m=\u001b[0m\u001b[0mcounts\u001b[0m\u001b[1;33m,\u001b[0m \u001b[0mbottom\u001b[0m\u001b[1;33m=\u001b[0m\u001b[1;36m0\u001b[0m\u001b[1;33m)\u001b[0m\u001b[1;33m\u001b[0m\u001b[1;33m\u001b[0m\u001b[0m\n\u001b[0m\u001b[0;32m   2541\u001b[0m             \u001b[1;32mif\u001b[0m \u001b[1;32mnot\u001b[0m \u001b[0mserver\u001b[0m\u001b[1;33m:\u001b[0m\u001b[1;33m\u001b[0m\u001b[1;33m\u001b[0m\u001b[0m\n\u001b[0;32m   2542\u001b[0m                 \u001b[0mplt\u001b[0m\u001b[1;33m.\u001b[0m\u001b[0mshow\u001b[0m\u001b[1;33m(\u001b[0m\u001b[1;33m)\u001b[0m\u001b[1;33m\u001b[0m\u001b[1;33m\u001b[0m\u001b[0m\n",
      "\u001b[1;31mTypeError\u001b[0m: bar() missing 1 required positional argument: 'x'"
     ]
    }
   ],
   "source": [
    "data[\"petal_len\"].hist()"
   ]
  },
  {
   "cell_type": "markdown",
   "metadata": {},
   "source": [
    "**Issue on matplotlib newer version**\n",
    "\n",
    "There is still no solution\n",
    "https://stackoverflow.com/questions/52723180/python-h2o-histogram-error-bar-missing-1-required-positional-argument-x\n",
    "\n",
    "Should use matplotlib version 2.2.4 or lower"
   ]
  },
  {
   "cell_type": "code",
   "execution_count": 22,
   "metadata": {},
   "outputs": [
    {
     "name": "stdout",
     "output_type": "stream",
     "text": [
      "<class 'pandas.core.frame.DataFrame'>\n",
      "RangeIndex: 150 entries, 0 to 149\n",
      "Data columns (total 7 columns):\n",
      "sepal_wid    150 non-null float64\n",
      "petal_len    150 non-null float64\n",
      "petal_wid    150 non-null float64\n",
      "class        150 non-null object\n",
      "ratio        150 non-null float64\n",
      "is_long      150 non-null int64\n",
      "species      150 non-null object\n",
      "dtypes: float64(4), int64(1), object(2)\n",
      "memory usage: 8.3+ KB\n"
     ]
    },
    {
     "data": {
      "text/html": [
       "<div>\n",
       "<style scoped>\n",
       "    .dataframe tbody tr th:only-of-type {\n",
       "        vertical-align: middle;\n",
       "    }\n",
       "\n",
       "    .dataframe tbody tr th {\n",
       "        vertical-align: top;\n",
       "    }\n",
       "\n",
       "    .dataframe thead th {\n",
       "        text-align: right;\n",
       "    }\n",
       "</style>\n",
       "<table border=\"1\" class=\"dataframe\">\n",
       "  <thead>\n",
       "    <tr style=\"text-align: right;\">\n",
       "      <th></th>\n",
       "      <th>sepal_wid</th>\n",
       "      <th>petal_len</th>\n",
       "      <th>petal_wid</th>\n",
       "      <th>ratio</th>\n",
       "      <th>is_long</th>\n",
       "    </tr>\n",
       "  </thead>\n",
       "  <tbody>\n",
       "    <tr>\n",
       "      <th>sepal_wid</th>\n",
       "      <td>1.00</td>\n",
       "      <td>-0.30</td>\n",
       "      <td>-0.28</td>\n",
       "      <td>-0.44</td>\n",
       "      <td>-0.47</td>\n",
       "    </tr>\n",
       "    <tr>\n",
       "      <th>petal_len</th>\n",
       "      <td>-0.30</td>\n",
       "      <td>1.00</td>\n",
       "      <td>0.94</td>\n",
       "      <td>0.90</td>\n",
       "      <td>0.84</td>\n",
       "    </tr>\n",
       "    <tr>\n",
       "      <th>petal_wid</th>\n",
       "      <td>-0.28</td>\n",
       "      <td>0.94</td>\n",
       "      <td>1.00</td>\n",
       "      <td>0.97</td>\n",
       "      <td>0.84</td>\n",
       "    </tr>\n",
       "    <tr>\n",
       "      <th>ratio</th>\n",
       "      <td>-0.44</td>\n",
       "      <td>0.90</td>\n",
       "      <td>0.97</td>\n",
       "      <td>1.00</td>\n",
       "      <td>0.82</td>\n",
       "    </tr>\n",
       "    <tr>\n",
       "      <th>is_long</th>\n",
       "      <td>-0.47</td>\n",
       "      <td>0.84</td>\n",
       "      <td>0.84</td>\n",
       "      <td>0.82</td>\n",
       "      <td>1.00</td>\n",
       "    </tr>\n",
       "  </tbody>\n",
       "</table>\n",
       "</div>"
      ],
      "text/plain": [
       "           sepal_wid  petal_len  petal_wid  ratio  is_long\n",
       "sepal_wid       1.00      -0.30      -0.28  -0.44    -0.47\n",
       "petal_len      -0.30       1.00       0.94   0.90     0.84\n",
       "petal_wid      -0.28       0.94       1.00   0.97     0.84\n",
       "ratio          -0.44       0.90       0.97   1.00     0.82\n",
       "is_long        -0.47       0.84       0.84   0.82     1.00"
      ]
     },
     "execution_count": 22,
     "metadata": {},
     "output_type": "execute_result"
    }
   ],
   "source": [
    "# show data more than 10\n",
    "d = data.as_data_frame()\n",
    "d.info()  #Describes the pandas DataFrame internals\n",
    "d.corr(method=\"spearman\").round(2)"
   ]
  },
  {
   "cell_type": "code",
   "execution_count": 23,
   "metadata": {},
   "outputs": [],
   "source": [
    "# split data\n",
    "train, test, valid = data.split_frame([0.6, 0.2])"
   ]
  },
  {
   "cell_type": "code",
   "execution_count": 29,
   "metadata": {
    "scrolled": false
   },
   "outputs": [
    {
     "name": "stdout",
     "output_type": "stream",
     "text": [
      "Checking whether there is an H2O instance running at http://localhost:54321. connected.\n"
     ]
    },
    {
     "data": {
      "text/html": [
       "<div style=\"overflow:auto\"><table style=\"width:50%\"><tr><td>H2O cluster uptime:</td>\n",
       "<td>11 mins 01 secs</td></tr>\n",
       "<tr><td>H2O cluster timezone:</td>\n",
       "<td>Asia/Bangkok</td></tr>\n",
       "<tr><td>H2O data parsing timezone:</td>\n",
       "<td>UTC</td></tr>\n",
       "<tr><td>H2O cluster version:</td>\n",
       "<td>3.22.1.2</td></tr>\n",
       "<tr><td>H2O cluster version age:</td>\n",
       "<td>13 days </td></tr>\n",
       "<tr><td>H2O cluster name:</td>\n",
       "<td>H2O_from_python_Protech_ji3100</td></tr>\n",
       "<tr><td>H2O cluster total nodes:</td>\n",
       "<td>1</td></tr>\n",
       "<tr><td>H2O cluster free memory:</td>\n",
       "<td>1.743 Gb</td></tr>\n",
       "<tr><td>H2O cluster total cores:</td>\n",
       "<td>4</td></tr>\n",
       "<tr><td>H2O cluster allowed cores:</td>\n",
       "<td>4</td></tr>\n",
       "<tr><td>H2O cluster status:</td>\n",
       "<td>locked, healthy</td></tr>\n",
       "<tr><td>H2O connection url:</td>\n",
       "<td>http://localhost:54321</td></tr>\n",
       "<tr><td>H2O connection proxy:</td>\n",
       "<td>None</td></tr>\n",
       "<tr><td>H2O internal security:</td>\n",
       "<td>False</td></tr>\n",
       "<tr><td>H2O API Extensions:</td>\n",
       "<td>Algos, AutoML, Core V3, Core V4</td></tr>\n",
       "<tr><td>Python version:</td>\n",
       "<td>3.6.7 final</td></tr></table></div>"
      ],
      "text/plain": [
       "--------------------------  -------------------------------\n",
       "H2O cluster uptime:         11 mins 01 secs\n",
       "H2O cluster timezone:       Asia/Bangkok\n",
       "H2O data parsing timezone:  UTC\n",
       "H2O cluster version:        3.22.1.2\n",
       "H2O cluster version age:    13 days\n",
       "H2O cluster name:           H2O_from_python_Protech_ji3100\n",
       "H2O cluster total nodes:    1\n",
       "H2O cluster free memory:    1.743 Gb\n",
       "H2O cluster total cores:    4\n",
       "H2O cluster allowed cores:  4\n",
       "H2O cluster status:         locked, healthy\n",
       "H2O connection url:         http://localhost:54321\n",
       "H2O connection proxy:\n",
       "H2O internal security:      False\n",
       "H2O API Extensions:         Algos, AutoML, Core V3, Core V4\n",
       "Python version:             3.6.7 final\n",
       "--------------------------  -------------------------------"
      ]
     },
     "metadata": {},
     "output_type": "display_data"
    },
    {
     "name": "stdout",
     "output_type": "stream",
     "text": [
      "Parse progress: |█████████████████████████████████████████████████████████| 100%\n"
     ]
    },
    {
     "ename": "AttributeError",
     "evalue": "'H2OFrame' object has no attribute 'remove'",
     "output_type": "error",
     "traceback": [
      "\u001b[1;31m---------------------------------------------------------------------------\u001b[0m",
      "\u001b[1;31mAttributeError\u001b[0m                            Traceback (most recent call last)",
      "\u001b[1;32m<ipython-input-29-92a9d9765f35>\u001b[0m in \u001b[0;36m<module>\u001b[1;34m\u001b[0m\n\u001b[0;32m     10\u001b[0m \u001b[0mdata\u001b[0m \u001b[1;33m=\u001b[0m \u001b[0mdata\u001b[0m\u001b[1;33m.\u001b[0m\u001b[0mcbind\u001b[0m\u001b[1;33m(\u001b[0m\u001b[0mratio_frame\u001b[0m\u001b[1;33m)\u001b[0m\u001b[1;33m\u001b[0m\u001b[1;33m\u001b[0m\u001b[0m\n\u001b[0;32m     11\u001b[0m \u001b[0mdata\u001b[0m \u001b[1;33m=\u001b[0m \u001b[0mh2o\u001b[0m\u001b[1;33m.\u001b[0m\u001b[0massign\u001b[0m\u001b[1;33m(\u001b[0m\u001b[0mdata\u001b[0m\u001b[1;33m,\u001b[0m \u001b[1;34m\"iris\"\u001b[0m\u001b[1;33m)\u001b[0m\u001b[1;33m\u001b[0m\u001b[1;33m\u001b[0m\u001b[0m\n\u001b[1;32m---> 12\u001b[1;33m \u001b[0mratio_frame\u001b[0m\u001b[1;33m.\u001b[0m\u001b[0mremove\u001b[0m\u001b[1;33m(\u001b[0m\u001b[1;33m)\u001b[0m \u001b[1;31m# error\u001b[0m\u001b[1;33m\u001b[0m\u001b[1;33m\u001b[0m\u001b[0m\n\u001b[0m",
      "\u001b[1;31mAttributeError\u001b[0m: 'H2OFrame' object has no attribute 'remove'"
     ]
    }
   ],
   "source": [
    "import h2o\n",
    "\n",
    "h2o.init()\n",
    "\n",
    "datasets = \"https://raw.githubusercontent.com/DarrenCook/h2o/bk/datasets/\"\n",
    "data = h2o.import_file(datasets + \"iris_wheader.csv\")\n",
    "\n",
    "ratio_frame = data[\"petal_wid\"] / data[\"sepal_wid\"]\n",
    "ratio_frame.col_names = [\"ratio\"]\n",
    "data = data.cbind(ratio_frame)\n",
    "data = h2o.assign(data, \"iris\")\n",
    "ratio_frame.remove() # error"
   ]
  },
  {
   "cell_type": "code",
   "execution_count": 30,
   "metadata": {},
   "outputs": [
    {
     "name": "stdout",
     "output_type": "stream",
     "text": [
      "Parse progress: |█████████████████████████████████████████████████████████| 100%\n"
     ]
    }
   ],
   "source": [
    "prices = h2o.H2OFrame({\n",
    "  'petal_len':[2, 3, 4, 5],\n",
    "  'price':[4, 5.5, 8, 10]\n",
    "  })"
   ]
  },
  {
   "cell_type": "code",
   "execution_count": 31,
   "metadata": {},
   "outputs": [],
   "source": [
    "data[\"petal_len\"] = data[\"petal_len\"].round()\n",
    "iris_prices = data.merge(prices)"
   ]
  },
  {
   "cell_type": "code",
   "execution_count": null,
   "metadata": {},
   "outputs": [],
   "source": []
  }
 ],
 "metadata": {
  "kernelspec": {
   "display_name": "Python 3",
   "language": "python",
   "name": "python3"
  },
  "language_info": {
   "codemirror_mode": {
    "name": "ipython",
    "version": 3
   },
   "file_extension": ".py",
   "mimetype": "text/x-python",
   "name": "python",
   "nbconvert_exporter": "python",
   "pygments_lexer": "ipython3",
   "version": "3.6.7"
  }
 },
 "nbformat": 4,
 "nbformat_minor": 2
}
